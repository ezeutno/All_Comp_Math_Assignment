{
 "cells": [
  {
   "cell_type": "markdown",
   "metadata": {},
   "source": [
    "# Assignment 6"
   ]
  },
  {
   "cell_type": "markdown",
   "metadata": {},
   "source": [
    "## 1. Use the Taylor series and derive polynomial for $\\sin{2x}$ !\n",
    "\n",
    "$$\n",
    "\\sin{2x} = ...............\n",
    "$$"
   ]
  },
  {
   "cell_type": "markdown",
   "metadata": {},
   "source": [
    "#### The Taylor Series of Derive Polynomial is \n",
    "$$f(x) = f(0) + f'(0) \\cdot x + \\frac{f''(0)\\cdot x^2}{2!}+\\frac{f'''(0)\\cdot x^3}{3!}+ \\cdots $$"
   ]
  },
  {
   "cell_type": "markdown",
   "metadata": {},
   "source": [
    "#### The Derivative of Sin(2x) is \n",
    "\n",
    "Even Number of Derevative : $(-1)^{\\lfloor\\frac{n}{2}\\rfloor}\\cdot2^n\\cdot\\sin{2x}$\n",
    "\n",
    "Odds Number of Derevative : $(-1)^{\\lfloor\\frac{n}{2}\\rfloor}\\cdot2^n\\cdot\\cos{2x}$\n",
    "\n",
    "*Where n is the number of derivative*"
   ]
  },
  {
   "cell_type": "markdown",
   "metadata": {},
   "source": [
    "#### The Taylor Series of Derive Polynomial of $\\sin{2x}$\n",
    "$$\\sin{2x} = f(0) + f'(0) \\cdot x + \\frac{f''(0)\\cdot x^2}{2!}+\\frac{f'''(0)\\cdot x^3}{3!}+ \\cdots $$"
   ]
  },
  {
   "cell_type": "markdown",
   "metadata": {},
   "source": [
    "#### Derevative Result\n",
    "###### The Function $\\sin{2x}$ = $0$\n",
    "###### 1st Differential $(-1)^02^1\\cos{2x}$ : $2\\cos{2x}$ = $2$\n",
    "###### 2nd Differential $(-1)^02^2\\sin{2x}$ : $-4\\sin{2x}$ = $0$\n",
    "###### 3rd Differential $(-1)^12^3\\cos{2x}$ : $-8\\cos{2x}$ = $-8$"
   ]
  },
  {
   "cell_type": "markdown",
   "metadata": {},
   "source": [
    "#### The Taylor Series of Derive Polynomial of $\\sin{2x}$\n",
    "$$\\sin{2x} = 0 + 2 \\cdot x + \\frac{0\\cdot x^2}{2!}+\\frac{-8\\cdot x^3}{3!}+\\frac{0\\cdot x^4}{4!}+ \\frac{32\\cdot x^5}{5!}+ \\cdots $$\n",
    "$$\\sin{2x} = 2 \\cdot x + \\frac{-8\\cdot x^3}{3!}+ \\frac{32\\cdot x^5}{5!}+ \\frac{-128\\cdot x^7}{7!}+ \\cdots $$\n",
    "#### The Result\n",
    "$$\\sin{2x} = 2 \\cdot x - \\frac{8\\cdot x^3}{3!}+ \\frac{32\\cdot x^5}{5!}- \\frac{128\\cdot x^7}{7!}+ \\cdots $$\n",
    "$$\n",
    "\\sin{2x} =\\sum\\limits_{k=1}^\\infty {(-1)}^{k-1} \\frac{{(2x)}^{1+2k}}{(1+2k)!}\n",
    "$$"
   ]
  },
  {
   "cell_type": "markdown",
   "metadata": {},
   "source": [
    "## 2. Numerical Integration (Area)\n",
    "$$\\int_{0}^{\\Pi} 1+\\sin(x) dx$$\n",
    "* Analytical\n",
    "* Numerical: n = 2, 4, 8, 16\n",
    "\n",
    "Plot, Error vs N"
   ]
  },
  {
   "cell_type": "markdown",
   "metadata": {},
   "source": [
    "We need to import numpy for the array of data that will be arrange."
   ]
  },
  {
   "cell_type": "code",
   "execution_count": 1,
   "metadata": {},
   "outputs": [],
   "source": [
    "import numpy as np"
   ]
  },
  {
   "cell_type": "markdown",
   "metadata": {},
   "source": [
    "The syntax are converted to the function model, as below"
   ]
  },
  {
   "cell_type": "code",
   "execution_count": 2,
   "metadata": {},
   "outputs": [],
   "source": [
    "f = lambda x:1+np.sin(x)"
   ]
  },
  {
   "cell_type": "markdown",
   "metadata": {},
   "source": [
    "The calculation of the numerical are based on the fact that two point will create a trapezium. This colerate small trapezium, if are enough, will be sum out than the result is closed to the area of the graph."
   ]
  },
  {
   "cell_type": "code",
   "execution_count": 3,
   "metadata": {},
   "outputs": [],
   "source": [
    "def trap(fx=f,a=0,b=np.pi,n=10000):\n",
    "    #number of point\n",
    "    nop = n+1;\n",
    "    x = np.linspace(a,b,nop)\n",
    "    y = fx(x)\n",
    "    return np.round(abs(0.5*(b-a)*(y[0]+2*sum(y[1:-1])+y[-1]))/n,2)"
   ]
  },
  {
   "cell_type": "markdown",
   "metadata": {},
   "source": [
    "To create the Analytical (Based on Sympy). We need to import sympy"
   ]
  },
  {
   "cell_type": "code",
   "execution_count": 4,
   "metadata": {},
   "outputs": [],
   "source": [
    "from sympy import *"
   ]
  },
  {
   "cell_type": "markdown",
   "metadata": {},
   "source": [
    "First we need to declare the symbols, create the expression, and then we can integrate between the data and get the result of integration"
   ]
  },
  {
   "cell_type": "code",
   "execution_count": 5,
   "metadata": {},
   "outputs": [
    {
     "name": "stdout",
     "output_type": "stream",
     "text": [
      "5.14159265358979\n"
     ]
    }
   ],
   "source": [
    "x1 = symbols('x1')\n",
    "expr = 1+sin(x1)\n",
    "result = integrate(expr, (x1, 0, pi)).evalf()\n",
    "print(result)"
   ]
  },
  {
   "cell_type": "markdown",
   "metadata": {},
   "source": [
    "Then, we can compare the result to the number of n = 2, 4, 8, 16."
   ]
  },
  {
   "cell_type": "code",
   "execution_count": 6,
   "metadata": {},
   "outputs": [],
   "source": [
    "n2 = trap(n=2)\n",
    "n4 = trap(n=4)\n",
    "n8 = trap(n=8)\n",
    "n16 = trap(n=16)"
   ]
  },
  {
   "cell_type": "markdown",
   "metadata": {},
   "source": [
    "We need to create an array based of n for plotting"
   ]
  },
  {
   "cell_type": "code",
   "execution_count": 7,
   "metadata": {},
   "outputs": [],
   "source": [
    "xres = [2,4,8,16]\n",
    "yres = [n2,n4,n8,n16]"
   ]
  },
  {
   "cell_type": "markdown",
   "metadata": {},
   "source": [
    "To plot we need to import matplotlib plot"
   ]
  },
  {
   "cell_type": "code",
   "execution_count": 8,
   "metadata": {},
   "outputs": [],
   "source": [
    "import matplotlib.pyplot as plt"
   ]
  },
  {
   "cell_type": "markdown",
   "metadata": {},
   "source": [
    "Ploting the closetness in correlation of n to the real result"
   ]
  },
  {
   "cell_type": "code",
   "execution_count": 9,
   "metadata": {},
   "outputs": [
    {
     "data": {
      "image/png": "[encoded data removed]",
      "text/plain": [
       "<matplotlib.figure.Figure at 0x1f630cea240>"
      ]
     },
     "metadata": {},
     "output_type": "display_data"
    }
   ],
   "source": [
    "plt.plot(xres,yres)\n",
    "plt.plot([0,16],[result,result])\n",
    "plt.show()"
   ]
  },
  {
   "cell_type": "markdown",
   "metadata": {},
   "source": [
    "I change the array of the previous plot to the presentage of error"
   ]
  },
  {
   "cell_type": "code",
   "execution_count": 10,
   "metadata": {},
   "outputs": [
    {
     "data": {
      "image/png": "[encoded data removed]",
      "text/plain": [
       "<matplotlib.figure.Figure at 0x1f630cffa58>"
      ]
     },
     "metadata": {},
     "output_type": "display_data"
    }
   ],
   "source": [
    "for i in range(len(yres)):\n",
    "    yres[i] = (result-yres[i])/result *100\n",
    "plt.plot(xres,yres)\n",
    "plt.show()"
   ]
  },
  {
   "cell_type": "markdown",
   "metadata": {},
   "source": [
    "## 3. Numerical Difference Calculation\n",
    "Compose f'(x), f''(x), f'''(x) of $f(x) = \\sin{x}$ for $x = 0,\\cdots,2\\pi$"
   ]
  },
  {
   "cell_type": "code",
   "execution_count": 11,
   "metadata": {},
   "outputs": [],
   "source": [
    "fStr = lambda x:np.sin(x)"
   ]
  },
  {
   "cell_type": "markdown",
   "metadata": {},
   "source": [
    "### The central difference equation within the step of\n",
    "\n",
    "1st Differential\n",
    "$$\n",
    "f'(x) = \\frac{f(x+h)-f(x-h)}{2h}\n",
    "$$\n",
    "\n",
    "2nd Differential\n",
    "$$\n",
    "f''(x) = \\frac{f(x+h)-2f(x)+f(x-h)}{h^2}\n",
    "$$\n",
    "\n",
    "3nd Differential\n",
    "$$\n",
    "f'''(x) = \\frac{f(x+2h)-2f(x+h)+2f(x-h)-f(x-2h)}{2h^3}\n",
    "$$\n",
    "\n",
    "4nd Differential\n",
    "$$\n",
    "f''''(x) = \\frac{f(x+2h)-4f(x+h)+6f(x)-4f(x-h)+f(x-2h)}{h^4}\n",
    "$$"
   ]
  },
  {
   "cell_type": "markdown",
   "metadata": {},
   "source": [
    "Create those differential into function"
   ]
  },
  {
   "cell_type": "code",
   "execution_count": 12,
   "metadata": {},
   "outputs": [],
   "source": [
    "f1 = lambda x: (fStr(x+0.5)-fStr(x-0.5))/(2*0.5)\n",
    "f2 = lambda x: (fStr(x+0.5) - 2*fStr(x) +fStr(x-0.5))/(0.5**2)\n",
    "f3 = lambda x: (fStr(x+2*0.5)-2*fStr(x+0.5)+2*fStr(x-0.5)-fStr(x-2*0.5))/(2*0.5**3)"
   ]
  },
  {
   "cell_type": "markdown",
   "metadata": {},
   "source": [
    "Create a X for ploting"
   ]
  },
  {
   "cell_type": "code",
   "execution_count": 13,
   "metadata": {},
   "outputs": [],
   "source": [
    "xOri = np.linspace(0,2*np.pi,50)"
   ]
  },
  {
   "cell_type": "markdown",
   "metadata": {},
   "source": [
    "Create Y point for ploting (Central Difference)"
   ]
  },
  {
   "cell_type": "code",
   "execution_count": 14,
   "metadata": {},
   "outputs": [],
   "source": [
    "y1Cd = f1(xOri)\n",
    "y2Cd = f2(xOri)\n",
    "y3Cd = f3(xOri)"
   ]
  },
  {
   "cell_type": "markdown",
   "metadata": {},
   "source": [
    "### The backward difference equation within the step of\n",
    "\n",
    "1st Differential\n",
    "$$\n",
    "f'(x) = \\frac{f(x)-f(x-h)}{h}\n",
    "$$\n",
    "\n",
    "2nd Differential\n",
    "$$\n",
    "f''(x) = \\frac{f(x)-2f(x-h)+f(x-2h)}{h^2}\n",
    "$$\n",
    "\n",
    "3nd Differential\n",
    "$$\n",
    "f'''(x) = \\frac{f(x)-3f(x-h)+3f(x-2h)-f(x-3h)}{h^3}\n",
    "$$\n",
    "\n",
    "4nd Differential\n",
    "$$\n",
    "f''''(x) = \\frac{f(x)-4f(x-h)+6f(x-2h)-4f(x-3h)+f(x-4h)}{h^4}\n",
    "$$"
   ]
  },
  {
   "cell_type": "markdown",
   "metadata": {},
   "source": [
    "Create those differential into function"
   ]
  },
  {
   "cell_type": "code",
   "execution_count": 15,
   "metadata": {},
   "outputs": [],
   "source": [
    "f1Bd = lambda x: (fStr(x)-fStr(x-0.5))/0.5\n",
    "f2Bd = lambda x: (fStr(x)-2*fStr(x-0.5)+fStr(x-2*0.5))/0.5**2\n",
    "f3Bd = lambda x: (fStr(x)-3*fStr(x-0.5)+3*fStr(x-2*0.5)-fStr(x-3*0.5))/0.5**3"
   ]
  },
  {
   "cell_type": "markdown",
   "metadata": {},
   "source": [
    "Create Y for ploting (backward difference)"
   ]
  },
  {
   "cell_type": "code",
   "execution_count": 16,
   "metadata": {},
   "outputs": [],
   "source": [
    "y1Bd = f1Bd(xOri)\n",
    "y2Bd = f2Bd(xOri)\n",
    "y3Bd = f3Bd(xOri)"
   ]
  },
  {
   "cell_type": "markdown",
   "metadata": {},
   "source": [
    "### The forward difference equation within the step of\n",
    "\n",
    "1st Differential\n",
    "$$\n",
    "f'(x) = \\frac{f(x+h)-f(x)}{h}\n",
    "$$\n",
    "\n",
    "2nd Differential\n",
    "$$\n",
    "f''(x) = \\frac{f(x+2h)-2f(x+h)+f(x)}{h^2}\n",
    "$$\n",
    "\n",
    "3nd Differential\n",
    "$$\n",
    "f'''(x) = \\frac{f(x+3h)-3f(x+2h)+3f(x+h)-f(x)}{h^3}\n",
    "$$\n",
    "\n",
    "4nd Differential\n",
    "$$\n",
    "f''''(x) = \\frac{f(x+4h)-4f(x+3h)+6f(x+2h)-4f(x+h)+f(x)}{h^4}\n",
    "$$"
   ]
  },
  {
   "cell_type": "markdown",
   "metadata": {},
   "source": [
    "Create those differential into function"
   ]
  },
  {
   "cell_type": "code",
   "execution_count": 17,
   "metadata": {},
   "outputs": [],
   "source": [
    "f1Fd = lambda x: (fStr(x+0.5)-fStr(x))/0.5\n",
    "f2Fd = lambda x: (fStr(x+2*0.5)-2*fStr(x+0.5)+fStr(x))/0.5**2\n",
    "f3Fd = lambda x: (fStr(x+3*0.5)-3*fStr(x+2*0.5)+3*fStr(x+0.5)-fStr(x))/0.5**3"
   ]
  },
  {
   "cell_type": "markdown",
   "metadata": {},
   "source": [
    "Create Y for ploting (forward difference)"
   ]
  },
  {
   "cell_type": "code",
   "execution_count": 18,
   "metadata": {},
   "outputs": [],
   "source": [
    "y1Fd = f1Fd(xOri)\n",
    "y2Fd = f2Fd(xOri)\n",
    "y3Fd = f3Fd(xOri)"
   ]
  },
  {
   "cell_type": "markdown",
   "metadata": {},
   "source": [
    "The first differential, re-create the original & numerical differential base"
   ]
  },
  {
   "cell_type": "code",
   "execution_count": 19,
   "metadata": {},
   "outputs": [
    {
     "data": {
      "image/png": "[encoded data removed]",
      "text/plain": [
       "<matplotlib.figure.Figure at 0x1f630e81a58>"
      ]
     },
     "metadata": {},
     "output_type": "display_data"
    }
   ],
   "source": [
    "f1Ori = lambda x: np.cos(x)\n",
    "y1Ori = f1Ori(xOri)\n",
    "#Plot the real differential\n",
    "plt.plot(xOri,y1Ori,\".b\")\n",
    "#Plot the central differential\n",
    "plt.plot(xOri,y1Cd,\".r\")\n",
    "#Plot the backward differential\n",
    "plt.plot(xOri,y1Bd,\".y\")\n",
    "#Plot the forward differential\n",
    "plt.plot(xOri,y1Fd,\".g\")\n",
    "plt.show()"
   ]
  },
  {
   "cell_type": "code",
   "execution_count": 20,
   "metadata": {},
   "outputs": [
    {
     "data": {
      "image/png": "[encoded data removed]",
      "text/plain": [
       "<matplotlib.figure.Figure at 0x1f630de34e0>"
      ]
     },
     "metadata": {},
     "output_type": "display_data"
    }
   ],
   "source": [
    "f2Ori = lambda x: -np.sin(x)\n",
    "y2Ori = f2Ori(xOri)\n",
    "#Plot the real differential\n",
    "plt.plot(xOri,y2Ori,\".b\")\n",
    "#Plot the central differential\n",
    "plt.plot(xOri,y2Cd,\".r\")\n",
    "#Plot the backward differential\n",
    "plt.plot(xOri,y2Bd,\".y\")\n",
    "#Plot the forward differential\n",
    "plt.plot(xOri,y2Fd,\".g\")\n",
    "plt.show()"
   ]
  },
  {
   "cell_type": "code",
   "execution_count": 21,
   "metadata": {},
   "outputs": [
    {
     "data": {
      "image/png": "[encoded data removed]",
      "text/plain": [
       "<matplotlib.figure.Figure at 0x1f632139748>"
      ]
     },
     "metadata": {},
     "output_type": "display_data"
    }
   ],
   "source": [
    "f3Ori = lambda x: -np.cos(x)\n",
    "y3Ori = f3Ori(xOri)\n",
    "#Plot the real differential\n",
    "plt.plot(xOri,y3Ori,\".b\",label='real')\n",
    "#Plot the central differential\n",
    "plt.plot(xOri,y3Cd,\".r\",label='central')\n",
    "#Plot the backward differential\n",
    "plt.plot(xOri,y3Bd,\".y\",label=\"backward\")\n",
    "#Plot the forward differential\n",
    "plt.plot(xOri,y3Fd,\".g\",label=\"forward\")\n",
    "plt.legend()\n",
    "plt.show()"
   ]
  }
 ],
 "metadata": {
  "kernelspec": {
   "display_name": "Python 3",
   "language": "python",
   "name": "python3"
  },
  "language_info": {
   "codemirror_mode": {
    "name": "ipython",
    "version": 3
   },
   "file_extension": ".py",
   "mimetype": "text/x-python",
   "name": "python",
   "nbconvert_exporter": "python",
   "pygments_lexer": "ipython3",
   "version": "3.6.4"
  }
 },
 "nbformat": 4,
 "nbformat_minor": 2
}
