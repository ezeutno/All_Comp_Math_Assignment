{
 "cells": [
  {
   "cell_type": "markdown",
   "metadata": {},
   "source": [
    "# Number 1\n",
    "\n",
    "Calculate the area between\n",
    "\n",
    "\\begin{align}\n",
    "Y &= X+1 \n",
    "\\\\\n",
    "Y &= X^2 \n",
    "\\end{align}"
   ]
  },
  {
   "cell_type": "code",
   "execution_count": 26,
   "metadata": {},
   "outputs": [
    {
     "data": {
      "image/png": "[encoded data removed]",
      "text/plain": [
       "<matplotlib.figure.Figure at 0x2b5a7c9f160>"
      ]
     },
     "metadata": {},
     "output_type": "display_data"
    }
   ],
   "source": [
    "from sympy.plotting import plot\n",
    "%matplotlib inline\n",
    "expr1 = x + 1\n",
    "expr2 = x**2\n",
    "h = plot( expr1, expr2, xlabel=\"$x$\", ylabel = \"$f(x)$\" )"
   ]
  },
  {
   "cell_type": "code",
   "execution_count": 43,
   "metadata": {},
   "outputs": [
    {
     "name": "stdout",
     "output_type": "stream",
     "text": [
      "-1.86338998124982\n"
     ]
    }
   ],
   "source": [
    "from sympy import *\n",
    "x1, x2 = symbols('x1 x2')  \n",
    "expr1 = x1 - x2 + 1\n",
    "expr2 = x1**2 - x2\n",
    "#print(solve( (expr1, expr2), (x1,x2)))\n",
    "x = solve( (expr1, expr2), (x1,x2))\n",
    "expr_1 = x1 +1 \n",
    "expr_2 = x1**2\n",
    "expr1_ = integrate(expr_1, (x1, x[0][0], x[1][0]))\n",
    "expr2_ = integrate(expr_2, (x1, x[0][0], x[1][0]))\n",
    "print((expr1_ - expr2_).evalf())"
   ]
  },
  {
   "cell_type": "markdown",
   "metadata": {},
   "source": [
    "# Number 2\n",
    "Calculate the limit\n",
    "$$\\lim_{y\\to\\\\7} \\frac{y^2-4y-21}{3y^2-17y-28}$$"
   ]
  },
  {
   "cell_type": "code",
   "execution_count": 20,
   "metadata": {},
   "outputs": [
    {
     "name": "stdout",
     "output_type": "stream",
     "text": [
      "0.400000000000000\n"
     ]
    }
   ],
   "source": [
    "from sympy import *\n",
    "y = symbols('y')\n",
    "expr = (y**2-4*y-21)/(3*(y**2)-17*y-28)\n",
    "print(limit(expr, y, 7).evalf())"
   ]
  },
  {
   "cell_type": "markdown",
   "metadata": {},
   "source": [
    "# Number 3\n",
    "Calculate the integral\n",
    "$$\n",
    "\\int_{7}^{9} \\frac{x+1}{x+2\\sqrt(x)-3}\n",
    "$$"
   ]
  },
  {
   "cell_type": "code",
   "execution_count": 23,
   "metadata": {},
   "outputs": [
    {
     "name": "stdout",
     "output_type": "stream",
     "text": [
      "1.69079823018566\n"
     ]
    }
   ],
   "source": [
    "from sympy import *\n",
    "x = symbols('x')\n",
    "expr = (x+1)/(x+2*sqrt(x)-3)\n",
    "print(integrate(expr, (x,7,9)).evalf())"
   ]
  }
 ],
 "metadata": {
  "kernelspec": {
   "display_name": "Python 3",
   "language": "python",
   "name": "python3"
  },
  "language_info": {
   "codemirror_mode": {
    "name": "ipython",
    "version": 3
   },
   "file_extension": ".py",
   "mimetype": "text/x-python",
   "name": "python",
   "nbconvert_exporter": "python",
   "pygments_lexer": "ipython3",
   "version": "3.6.4"
  }
 },
 "nbformat": 4,
 "nbformat_minor": 2
}
