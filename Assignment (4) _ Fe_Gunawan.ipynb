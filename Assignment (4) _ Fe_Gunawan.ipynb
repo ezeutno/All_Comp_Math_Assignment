{
 "cells": [
  {
   "cell_type": "markdown",
   "metadata": {},
   "source": [
    "# Monte Carlo"
   ]
  },
  {
   "cell_type": "code",
   "execution_count": 1,
   "metadata": {},
   "outputs": [
    {
     "name": "stdout",
     "output_type": "stream",
     "text": [
      "Area :  2.528874943150705\n",
      "Theoretical =  2.527407804285415\n"
     ]
    }
   ],
   "source": [
    "import numpy as np\n",
    "import numpy.random as rnd\n",
    "import matplotlib.pyplot as plt\n",
    "\n",
    "f = lambda x: np.sqrt(1.0 - x**2)\n",
    "xp = np.linspace(0.0,1.0,100000)\n",
    "ylim = f(xp)\n",
    "n = 100000\n",
    "x = rnd.uniform(0,1.0,n)\n",
    "y = rnd.uniform(0,1.0,n)\n",
    "nDots = y[y <= ylim]\n",
    "nDots2 = nDots[nDots <= 0.5]\n",
    "\n",
    "area = ((len(nDots)+len(nDots2))/(2*len(nDots)))*np.pi\n",
    "\n",
    "print(\"Area : \",area)\n",
    "print(\"Theoretical = \",np.pi-(np.pi*(1/3)-np.sin(np.pi*2/3)/2))"
   ]
  },
  {
   "cell_type": "code",
   "execution_count": null,
   "metadata": {},
   "outputs": [],
   "source": []
  }
 ],
 "metadata": {
  "kernelspec": {
   "display_name": "Python 3",
   "language": "python",
   "name": "python3"
  },
  "language_info": {
   "codemirror_mode": {
    "name": "ipython",
    "version": 3
   },
   "file_extension": ".py",
   "mimetype": "text/x-python",
   "name": "python",
   "nbconvert_exporter": "python",
   "pygments_lexer": "ipython3",
   "version": "3.6.4"
  }
 },
 "nbformat": 4,
 "nbformat_minor": 2
}
