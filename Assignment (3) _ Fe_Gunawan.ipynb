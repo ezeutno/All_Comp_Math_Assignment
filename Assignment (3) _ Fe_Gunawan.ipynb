{
 "cells": [
  {
   "cell_type": "markdown",
   "metadata": {},
   "source": [
    "# Root Finding"
   ]
  },
  {
   "cell_type": "code",
   "execution_count": 9,
   "metadata": {},
   "outputs": [],
   "source": [
    "import sympy as sym\n",
    "x = sym.symbols('x')\n",
    "f = x**2 -10"
   ]
  },
  {
   "cell_type": "markdown",
   "metadata": {},
   "source": [
    "## Bisection\n",
    "$$\n",
    "\\frac{x_U +x_L}{2}\n",
    "$$"
   ]
  },
  {
   "cell_type": "code",
   "execution_count": 2,
   "metadata": {},
   "outputs": [],
   "source": [
    "def bisection(f, Xl, Xu):\n",
    "    Xm = -1;\n",
    "    while True:\n",
    "        fXl = f.subs(x,Xl)\n",
    "        fXu = f.subs(x,Xu)\n",
    "        if fXl*fXu <0:\n",
    "            Xm = (Xl+Xu)/2\n",
    "            fXm = f.subs(x,Xm)\n",
    "            if fXl*fXm<0:\n",
    "                Xu = Xm\n",
    "            else:\n",
    "                Xl = Xm\n",
    "        else:\n",
    "            break\n",
    "        if abs(f.subs(x,Xm))<1.0E-8:\n",
    "            break\n",
    "    return Xm"
   ]
  },
  {
   "cell_type": "code",
   "execution_count": 11,
   "metadata": {},
   "outputs": [
    {
     "name": "stdout",
     "output_type": "stream",
     "text": [
      "Please input X Upper : 5\n",
      "Please input X Lower : 3\n",
      "Result 3.1622776612639427\n"
     ]
    }
   ],
   "source": [
    "print(\"Result {}\".format(bisection(f,int(input(\"Please input X Upper : \")),int(input(\"Please input X Lower : \")))))"
   ]
  },
  {
   "cell_type": "markdown",
   "metadata": {},
   "source": [
    "## False Position\n",
    "$$\n",
    "X_M = X_U - \\frac{f(X_U)(X_L-X_U)}{f(X_L)-f(X_U)}\n",
    "$$"
   ]
  },
  {
   "cell_type": "code",
   "execution_count": 4,
   "metadata": {},
   "outputs": [],
   "source": [
    "def falsePosition(f, Xl, Xu):\n",
    "    Xm = -1;\n",
    "    while True:\n",
    "        fXl = f.subs(x,Xl)\n",
    "        fXu = f.subs(x,Xu)\n",
    "        if fXl*fXu <0:\n",
    "            Xm = Xu - ((fXu)*(Xl-Xu))/(fXl - fXu)\n",
    "            fXm = f.subs(x,Xm)\n",
    "            if fXl*fXm<0:\n",
    "                Xu = Xm\n",
    "            else:\n",
    "                Xl = Xm\n",
    "        else:\n",
    "            break\n",
    "        if abs(f.subs(x,Xm))<1.0E-8:\n",
    "            break\n",
    "    return Xm.evalf()"
   ]
  },
  {
   "cell_type": "code",
   "execution_count": 5,
   "metadata": {},
   "outputs": [
    {
     "name": "stdout",
     "output_type": "stream",
     "text": [
      "Please input X Upper : 5\n",
      "Please input X Lower : 3\n",
      "Result 3.16227765953211\n"
     ]
    }
   ],
   "source": [
    "print(\"Result {}\".format(falsePosition(f,int(input(\"Please input X Upper : \")),int(input(\"Please input X Lower : \")))))"
   ]
  },
  {
   "cell_type": "markdown",
   "metadata": {},
   "source": [
    "## Newton Method\n",
    "$$\n",
    "X = X - \\frac{f(X)}{f'(X)}\n",
    "$$"
   ]
  },
  {
   "cell_type": "code",
   "execution_count": 6,
   "metadata": {},
   "outputs": [],
   "source": [
    "def newtonMethod(f,x1):\n",
    "    x2 = x1;\n",
    "    x1 = x1 - f.subs(x,x1)/sym.diff(f,x).subs(x,x1)\n",
    "    if abs(x1-x2)<1.0E-15:return x1.evalf()\n",
    "    else: return newtonMethod(f,x1)"
   ]
  },
  {
   "cell_type": "code",
   "execution_count": 7,
   "metadata": {},
   "outputs": [
    {
     "name": "stdout",
     "output_type": "stream",
     "text": [
      "Please input X : 5\n",
      "Result 3.16227766016838\n"
     ]
    }
   ],
   "source": [
    "print(\"Result {}\".format(newtonMethod(f,int(input(\"Please input X : \")))))"
   ]
  }
 ],
 "metadata": {
  "kernelspec": {
   "display_name": "Python 3",
   "language": "python",
   "name": "python3"
  },
  "language_info": {
   "codemirror_mode": {
    "name": "ipython",
    "version": 3
   },
   "file_extension": ".py",
   "mimetype": "text/x-python",
   "name": "python",
   "nbconvert_exporter": "python",
   "pygments_lexer": "ipython3",
   "version": "3.6.4"
  }
 },
 "nbformat": 4,
 "nbformat_minor": 2
}
