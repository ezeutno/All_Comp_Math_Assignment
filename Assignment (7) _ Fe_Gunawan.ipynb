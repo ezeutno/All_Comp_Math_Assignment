{
 "cells": [
  {
   "cell_type": "markdown",
   "metadata": {},
   "source": [
    "# Assignment 7\n",
    "## Numerical Integration\n",
    "\n",
    "1. Based on Trapezoid Rule*\n",
    "2. Based on Simpson's $\\frac{1}{3}$ Rule*\n",
    "3. Based on Gauss-Legendre Quadrature**\n",
    "\n",
    "Number of Panel =  \\*{4,8,16,30}, \\**{2}"
   ]
  },
  {
   "cell_type": "markdown",
   "metadata": {},
   "source": [
    "### The function of integration is:\n",
    "$$\n",
    "\\int_{1}^{\\Pi} \\frac{\\ln{x}}{x^2-2x-2} dx\n",
    "$$"
   ]
  },
  {
   "cell_type": "markdown",
   "metadata": {},
   "source": [
    "#### Solving Steps\n",
    "To create a logarthmic function, We need to import _numpy_ to calcualte the normal logarithmic"
   ]
  },
  {
   "cell_type": "code",
   "execution_count": 1,
   "metadata": {},
   "outputs": [],
   "source": [
    "import numpy as np"
   ]
  },
  {
   "cell_type": "markdown",
   "metadata": {},
   "source": [
    "Then, we need to create the function based on the function that are profided"
   ]
  },
  {
   "cell_type": "code",
   "execution_count": 2,
   "metadata": {},
   "outputs": [],
   "source": [
    "f = lambda x:np.log(x)/(x**2-2*x+2)"
   ]
  },
  {
   "cell_type": "markdown",
   "metadata": {},
   "source": [
    "##### Trapezoid Rule's Integration\n",
    "The calculation of the numerical are based on the fact that two point will create a trapezium. This colerate small trapezium, if are enough, will be sum out than the result is closed to the area of the graph."
   ]
  },
  {
   "cell_type": "code",
   "execution_count": 3,
   "metadata": {},
   "outputs": [],
   "source": [
    "def trapIntegrat(fx=f,a=1,b=np.pi,n=10000):\n",
    "    #number of point\n",
    "    x = np.linspace(a,b,n+1)\n",
    "    y = fx(x)\n",
    "    return abs(0.5*(b-a)*(y[0]+2*sum(y[1:-1])+y[-1]))/n"
   ]
  },
  {
   "cell_type": "code",
   "execution_count": 4,
   "metadata": {},
   "outputs": [
    {
     "name": "stdout",
     "output_type": "stream",
     "text": [
      "0.558100997307471\n",
      "0.5783432199113311\n",
      "0.5832985470864485\n"
     ]
    }
   ],
   "source": [
    "print(trapIntegrat(n=4))\n",
    "print(trapIntegrat(n=8))\n",
    "print(trapIntegrat(n=16))"
   ]
  },
  {
   "cell_type": "markdown",
   "metadata": {},
   "source": [
    "##### Simpsion's $\\frac{1}{3}$ Rule's Integration\n",
    "$$\n",
    "\\sum\\limits_{k=1}^n \\frac{h}{3}[f(x_1)+4f(x_2)+2f(x_3)+....+4f(x_{n-1})+f(x_n)]\n",
    "$$"
   ]
  },
  {
   "cell_type": "code",
   "execution_count": 5,
   "metadata": {},
   "outputs": [],
   "source": [
    "#iteration\n",
    "def simpIntegrat(fx=f,a=1,b=np.pi,n=10000):\n",
    "    x = np.linspace(a,b,n+1)\n",
    "    y = fx(x)\n",
    "    res = y[0]+y[-1]\n",
    "    for i in range(1,n): res += (2+2*(i%2))*y[i]\n",
    "    return res*abs(x[0]-x[1])/3\n",
    "\n",
    "#linear vector\n",
    "def simpIntegrat2(fx=f, a=1, b=np.pi, n=10000):\n",
    "    x = np.linspace(a,b,n+1)\n",
    "    w = np.ones(n+1)\n",
    "    w[1:-1:2] = 4\n",
    "    w[2:-2:2] = 2\n",
    "    return sum(w*fx(x))*abs(x[0]-x[1])/3"
   ]
  },
  {
   "cell_type": "markdown",
   "metadata": {},
   "source": [
    "##### Gauss-Legendre Quadrature Rule's Integration\n",
    "\n",
    "$$\\int_{-1}^{1}f(x)dx \\approx \\frac{b-a}{2}\\sum\\limits_{i=1}^n a_if(x_i)$$\n",
    "\n",
    "Where X equals to\n",
    "$$ x = \\frac{b+a}{2}+\\frac{b-a}{2}\\xi$$\n",
    "\n",
    "Where $\\xi$ are taken from\n",
    "\n",
    "Nodes and weights for Gauss–Legendre quadrature\n",
    "\n",
    "| n |     $\\xi_i$   |  $a_i$   |\n",
    "|:-:|:-------------:|:--------:|\n",
    "| 1 |  $\\pm$0.57735 |     1    |\n",
    "| 2 |       0       | 0.888889 |\n",
    "|   | $\\pm$0.774597 | 0.555556 |\n",
    "| 3 | $\\pm$0.339981 | 0.652145 |\n",
    "|   | $\\pm$0.861136 | 0.347855 |\n",
    "| 4 | 0             | 0.568889 |\n",
    "|   | $\\pm$0.538469 | 0.478629 |\n",
    "|   | $\\pm$0.90618  | 0.236927 |\n"
   ]
  },
  {
   "cell_type": "code",
   "execution_count": 6,
   "metadata": {},
   "outputs": [],
   "source": [
    "def gausIntegrat(fx=f, a=1, b=np.pi,n=3):\n",
    "    #The data are taken from https://en.wikipedia.org/wiki/Gaussian_quadrature\n",
    "    #multiple data of array that are equivalent from the table\n",
    "    zeta = np.array([np.array([0]),np.array([0.57735]),np.array([0,0.774597]),np.array([0.339981,0.861136]),np.array([0,0.538469,0.90618])])\n",
    "    ai = np.array([np.array([2]),np.array([1]),np.array([0.888889,0.555556]),np.array([0.652145,0.347855]),np.array([0.568889,0.478629,0.236927])])\n",
    "    \n",
    "    # join positive and negative condition of the zeta & ai >> np.concatenate\n",
    "    if zeta[n][0] == 0 :\n",
    "        x = (b+a)/2 +(b-a)/2*np.concatenate([zeta[n],(-1*zeta[n][1:n])])\n",
    "        return ((b-a)/2)*sum(fx(x)*np.concatenate([ai[n],ai[n][1:n]]))\n",
    "    else:\n",
    "        x = (b+a)/2 +(b-a)/2*np.concatenate([zeta[n],(-1*zeta[n])])\n",
    "        return ((b-a)/2)*sum(fx(x)*np.concatenate([ai[n],ai[n]]))"
   ]
  },
  {
   "cell_type": "markdown",
   "metadata": {},
   "source": [
    "To explain the way the three of them differs from one another, we need to use matplotlib to re-enginered the step that are taken."
   ]
  },
  {
   "cell_type": "code",
   "execution_count": 7,
   "metadata": {},
   "outputs": [],
   "source": [
    "import matplotlib.pyplot as plt"
   ]
  },
  {
   "cell_type": "markdown",
   "metadata": {},
   "source": [
    "For trapezoid and simpson's 1/3 rule, we used the nop of 0,4,8,16 and 30. We have to create a array then calculate it."
   ]
  },
  {
   "cell_type": "code",
   "execution_count": 8,
   "metadata": {},
   "outputs": [
    {
     "name": "stdout",
     "output_type": "stream",
     "text": [
      "Trapezoid     :  [0.558100997307471, 0.5783432199113311, 0.5832985470864485, 0.5844754723922773]\n",
      "Simpson's 1/3 :  [0.5865257193213259, 0.5850906274459512, 0.5849503228114875, 0.5849433898707207]\n"
     ]
    }
   ],
   "source": [
    "nArray = [4,8,16,30]\n",
    "trapArray = []\n",
    "simpArray = []\n",
    "for i in nArray:\n",
    "    trapArray.append(trapIntegrat(n=i))\n",
    "    simpArray.append(simpIntegrat2(n=i))\n",
    "print(\"Trapezoid     : \",trapArray)\n",
    "print(\"Simpson's 1/3 : \",simpArray)"
   ]
  },
  {
   "cell_type": "markdown",
   "metadata": {},
   "source": [
    "As for the Gaussian quadrature, we can see the changes through the result of n. Since n that corresponding to the n, number of points in the trapezoid and simpson's 1/3 aren't correlated so it's compared not by step as both of them before. So, it's calculated to the n from range of 0 through 4."
   ]
  },
  {
   "cell_type": "code",
   "execution_count": 9,
   "metadata": {},
   "outputs": [
    {
     "name": "stdout",
     "output_type": "stream",
     "text": [
      "Gaussian quadrature :  [0.5816870356588623, 0.5847681087712879]\n"
     ]
    }
   ],
   "source": [
    "gausArray = []\n",
    "for i in range(2,4):\n",
    "    gausArray.append(gausIntegrat(n=i))\n",
    "print(\"Gaussian quadrature : \",gausArray)"
   ]
  },
  {
   "cell_type": "markdown",
   "metadata": {},
   "source": [
    "Plot all available data,"
   ]
  },
  {
   "cell_type": "code",
   "execution_count": 10,
   "metadata": {},
   "outputs": [
    {
     "data": {
      "image/png": "[encoded data removed]",
      "text/plain": [
       "<matplotlib.figure.Figure at 0x12a0d952f98>"
      ]
     },
     "metadata": {},
     "output_type": "display_data"
    }
   ],
   "source": [
    "plt.plot(nArray,trapArray,\"^--\",label=\"trap\")\n",
    "plt.plot(nArray,simpArray,\"x-\",label=\"simp\")\n",
    "\n",
    "n1Array = [4,30]\n",
    "for i in gausArray:\n",
    "    plt.plot(n1Array,[i,i],label=\"gaus\"+str(i+1))\n",
    "plt.legend()\n",
    "plt.show()"
   ]
  }
 ],
 "metadata": {
  "kernelspec": {
   "display_name": "Python 3",
   "language": "python",
   "name": "python3"
  },
  "language_info": {
   "codemirror_mode": {
    "name": "ipython",
    "version": 3
   },
   "file_extension": ".py",
   "mimetype": "text/x-python",
   "name": "python",
   "nbconvert_exporter": "python",
   "pygments_lexer": "ipython3",
   "version": "3.6.4"
  }
 },
 "nbformat": 4,
 "nbformat_minor": 2
}
