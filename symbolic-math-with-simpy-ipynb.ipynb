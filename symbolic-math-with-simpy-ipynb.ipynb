{
 "cells": [
  {
   "cell_type": "markdown",
   "metadata": {},
   "source": [
    "# Komputasi dengan Simbol\n",
    "\n",
    "\n",
    "Program komputer sering digunakan untuk mengolah angka-angka, bukan mengolah simbol-simbol. Sebagai contoh, kita mungkin memberi nilai variable `x = 3.1416`, lalu mengevaluasi `sin(x)`. Walaupun demikian, untuk banyak kebutuhan seperti dalam kuliah kalkulus sebagai contoh, kita ingin melakukan komputasi menggunakan simbol-simbol matematika. Kita mungkin ingin menghitung $ \\int \\sin(x) \\, \\mathrm dx$ tanpa memberikan nilai batas-batas secara numeral. Kita ingin memperoleh hasil dalam bentuk simbol-simbol matematik seperti $\\int \\sin(x) \\, \\mathrm dx = \\cos(x) + c$, di mana $c$ adalah suatu konstanta. \n",
    "\n",
    "Singkat kata, kita membutuhkan komputasi yang bersifat simbolis. Beberapa program komputer untuk kebutuhan ini adalah Mathematica dan Maple. Dalam sesi ini, kita akan melakukan komputasi simbolik dengan python. Program komputer ini memiliki pustaka (*library*) bernama `SymPy` yang menyediakan fungsi-fungsi untuk kebutuhan komputasi simbolis.\n",
    "\n",
    "Secara khusus, kita akan mempelajari fungsi-fungsi dalam tabel berikut dalam pustaka `SymPy`. Penggunaan fungsi-fungsi tersebut akan diperlihatkan menggunakan contoh-contoh yang sangat sederhana dan terbatas. Secara umum, hanya satu contoh diberikan untuk setiap fungsi. Contoh-contoh dipilih untuk memperlihatkan kontras antara fungsi-fungsi. Pendekatan ini diambil penulis untuk membantu mahasiswa menguasai/mengingat seluruh fungsi-fungsi tersebut. Penulis sadari banyak buku maupun tutorial yang menggunakan beberapa contoh untuk menjelaskan suatu fungsi. Menurut penulis, terlalu banyak contoh-contoh bisa mengaburkan tujuan utama pembelajaran yaitu mengetahui fungsi-fungsi python untuk kebutuhan komputasi simbolis. Karena jumlah contoh yang terbatas, sebagian pembaca mungkin merasa membutuhkan lebih banyak contoh untuk meningkatkan penguasaan mereka. Buat mereka yang pernah mengambil mata kuliah kalkulus, tentunya bisa membuat sendiri contoh-contohnya.\n",
    "\n",
    "| Fungsi Dasar | Polinomial   | Kalkulus    |\n",
    "|--------------|--------------|-------------|\n",
    "| `symbols()`  | `simplify()` | `limit()`   |\n",
    "| `evalf()`    | `factor()`   | `integral()`|\n",
    "| `subs()`     | `expand()`   | `diff()`    |\n",
    "| `plot()`     | `cancel()`   |             |\n",
    "|              | `apart()`    |             |\n",
    "|              | `solve()`    |             |"
   ]
  },
  {
   "cell_type": "markdown",
   "metadata": {},
   "source": [
    "## Pendefinisian Variabel Simbolik\n",
    "\n",
    "Dalam bagian ini, kita akan mendiskusikan penggunaan fungsi-fungsi: `symbols()`, `evalf()`, `subs()`, dan `plot()`. Kita mulai dengan fungsi `symbols()`. Untuk kebutuhan komputasi simbolik, pertama-tama kita perlu mengimpor pustaka `sympy`. Setelah itu, kita bisa mendefinisikan variable-variable yang bersifat simbolis. Dalam contoh berikut, kita definisikan tiga variabel simbolik, yaitu $x$, $y$, dan $z$, secara bersamaan dengan fungsi `symbols()`. "
   ]
  },
  {
   "cell_type": "code",
   "execution_count": 1,
   "metadata": {
    "collapsed": true
   },
   "outputs": [],
   "source": [
    "from sympy import *                           # Import semua fungsi dalam sympy\n",
    "x, y, z = symbols('x y z')                    # Definisikan tiga variabel simbolis\n",
    "init_printing(use_latex = True)               # Set pencetakan pada screen menggunakan Latex"
   ]
  },
  {
   "cell_type": "markdown",
   "metadata": {},
   "source": [
    "Selanjutnya, kita akan melihat penggunaan fungsi `evalf()` yang berfungsi mengevaluasi suatu ekspresi simbolis secara numeral. Untuk kebutuhan ini, kita menggunakan contoh berikut. Dalam paket `SymPy`, konstanta tidak rasional $\\pi$ telah didefinisikan dengan variabel simbolis `pi`. Kita dapat mengkonversi simbol ini menjadi angka dengan fungsi `evalf()`. Sebagai contoh, lihat perintah python berikut ini."
   ]
  },
  {
   "cell_type": "code",
   "execution_count": 2,
   "metadata": {},
   "outputs": [
    {
     "data": {
      "image/png": "[encoded data removed]",
      "text/latex": [
       "$$\\pi$$"
      ],
      "text/plain": [
       "π"
      ]
     },
     "execution_count": 2,
     "metadata": {},
     "output_type": "execute_result"
    }
   ],
   "source": [
    "pi"
   ]
  },
  {
   "cell_type": "markdown",
   "metadata": {},
   "source": [
    "Hasil di atas memperlihatkan bahwa variable `pi` menyimpan $\\pi$ sepenuhnya dan bukan nilai numeral seperti 3.14159 di mana nilai $\\pi$ dibulatkan menggunakan lima angka desimal. Kita bisa saja mengkonversi simbol $\\pi$ menjadi nilai numeral dengan fungsi `evalf`. Sebagai contoh,"
   ]
  },
  {
   "cell_type": "code",
   "execution_count": 3,
   "metadata": {
    "scrolled": true
   },
   "outputs": [
    {
     "data": {
      "image/png": "[encoded data removed]",
      "text/latex": [
       "$$3.14159265358979$$"
      ],
      "text/plain": [
       "3.14159265358979"
      ]
     },
     "execution_count": 3,
     "metadata": {},
     "output_type": "execute_result"
    }
   ],
   "source": [
    "pi.evalf()"
   ]
  },
  {
   "cell_type": "markdown",
   "metadata": {},
   "source": [
    "Kita bisa menentukan jumlah angka yang digunakan dalam konversi konstanta $\\pi$ ini. Sebagai contoh, kita bisa mendapatkan $\\pi$ sepanjang 50 angka."
   ]
  },
  {
   "cell_type": "code",
   "execution_count": 4,
   "metadata": {},
   "outputs": [
    {
     "data": {
      "image/png": "[encoded data removed]",
      "text/latex": [
       "$$3.1415926535897932384626433832795028841971693993751$$"
      ],
      "text/plain": [
       "3.1415926535897932384626433832795028841971693993751"
      ]
     },
     "execution_count": 4,
     "metadata": {},
     "output_type": "execute_result"
    }
   ],
   "source": [
    "pi.evalf(n = 50)"
   ]
  },
  {
   "cell_type": "markdown",
   "metadata": {},
   "source": [
    "Hal yang sama berlaku untuk simbol matematika lainnya seperti $\\sqrt{2}$. Simbol ini bisa kita konversi menjadi numeral dengan fungsi `evalf()`. Berikut adalah contohnya."
   ]
  },
  {
   "cell_type": "code",
   "execution_count": 5,
   "metadata": {},
   "outputs": [
    {
     "data": {
      "image/png": "[encoded data removed]",
      "text/latex": [
       "$$\\sqrt{2}$$"
      ],
      "text/plain": [
       "√2"
      ]
     },
     "execution_count": 5,
     "metadata": {},
     "output_type": "execute_result"
    }
   ],
   "source": [
    "x = sqrt(2)\n",
    "x"
   ]
  },
  {
   "cell_type": "markdown",
   "metadata": {},
   "source": [
    "Lihat bahwa python menyimpan $x = \\sqrt{2}$, bukan sebagai suatu angka. Untuk memperoleh nilai numeral variabel ini dengan jumlah digit 7, kita gunakan"
   ]
  },
  {
   "cell_type": "code",
   "execution_count": 6,
   "metadata": {},
   "outputs": [
    {
     "data": {
      "image/png": "[encoded data removed]",
      "text/latex": [
       "$$1.414214$$"
      ],
      "text/plain": [
       "1.414214"
      ]
     },
     "execution_count": 6,
     "metadata": {},
     "output_type": "execute_result"
    }
   ],
   "source": [
    "x.evalf(n = 7)"
   ]
  },
  {
   "cell_type": "markdown",
   "metadata": {},
   "source": [
    "Dua contoh sederhana di atas memperlihatkan bagaimana merubah simbol-simbol menjadi angka-angka. \n",
    "\n",
    "Dalam bagian berikut ini, kita akan memindahkan fokus kita pada fungsi `subs()`. Dengan ini, kita bisa melakukan substituasi atau penggantian. Kita bisa mengganti variabel simbolis dengan variabel simbolis lainnya. Kita juga bisa mengganti variabel simbolis dengan angka. Untuk lebih jelasnya, perhatikan contoh berikut ini.\n",
    "\n",
    "Kita akan mendefinisikan satu ekspresi matematika dalam bentuk simbolik. Ekspresi atau persamaan matematika kita simpan dalam variabel `expr`. Lihat perintah python di bawah ini."
   ]
  },
  {
   "cell_type": "code",
   "execution_count": 7,
   "metadata": {
    "collapsed": true
   },
   "outputs": [],
   "source": [
    "x = symbols('x')                       # Didefinisikan kembali variable x untuk overwrite x = pi di atas\n",
    "expr = x**2 - 4*x - 4                  # Suatu persamaan dengan variabel simbolis"
   ]
  },
  {
   "cell_type": "markdown",
   "metadata": {},
   "source": [
    "Persamaan `expr` mengandung satu variabel simbolis `x`. Variable ini bisa kita ganti dengan variabel simbolis lainnya, atau bisa kita ganti dengan angka. Penggantian ini bisa dilakukan dengan fungsi `subs`. Perintah python di bawah ini melakukan penggantian variabel simbolis `x` dengan variabel `y` yang juga bersifat simbolis seperti definisi di atas. "
   ]
  },
  {
   "cell_type": "code",
   "execution_count": 8,
   "metadata": {},
   "outputs": [
    {
     "data": {
      "image/png": "[encoded data removed]",
      "text/latex": [
       "$$y^{2} - 4 y - 4$$"
      ],
      "text/plain": [
       " 2          \n",
       "y  - 4⋅y - 4"
      ]
     },
     "execution_count": 8,
     "metadata": {},
     "output_type": "execute_result"
    }
   ],
   "source": [
    "expr.subs(x, y)     "
   ]
  },
  {
   "cell_type": "markdown",
   "metadata": {},
   "source": [
    "Jika perintah python di atas melakukan pertukaran variabel-variabel symbolis `x` dan `y`, perintah python di bawah ini mengganti variabel simbolis `x` dengan suatu angka."
   ]
  },
  {
   "cell_type": "code",
   "execution_count": 9,
   "metadata": {},
   "outputs": [
    {
     "data": {
      "image/png": "[encoded data removed]",
      "text/latex": [
       "$$-4$$"
      ],
      "text/plain": [
       "-4"
      ]
     },
     "execution_count": 9,
     "metadata": {},
     "output_type": "execute_result"
    }
   ],
   "source": [
    "expr.subs({x:0})"
   ]
  },
  {
   "cell_type": "markdown",
   "metadata": {},
   "source": [
    "Jika persamaan kita mengandung beberapa variabel simbolis, kita bisa melakukan pergantian tersebut secara serentak. Sebagai contoh, untuk ekpresi berbentuk: `expr = x + y` dapat dilakukan substitusi secara serentak dengan perintah python: `expr.subs({x:1, y:2})` di mana variabel `x` diganti dengan angka 1 dan variabel `y` dengan angka 2. \n",
    "\n",
    "Berikut kita akan mendiskusikan fungsi `plot()`. Kita dengan mudah memplot fungsi simbolik tanpa perlu memberikan nilai-nilai untuk setiap variabel yang terlibat. Sebagai contoh,"
   ]
  },
  {
   "cell_type": "code",
   "execution_count": 11,
   "metadata": {},
   "outputs": [
    {
     "data": {
      "image/png": "[encoded data removed]",
      "text/plain": [
       "<matplotlib.figure.Figure at 0x22b3df977b8>"
      ]
     },
     "metadata": {},
     "output_type": "display_data"
    }
   ],
   "source": [
    "from sympy.plotting import plot\n",
    "%matplotlib inline\n",
    "expr1 = x**2 - 4*x - 4\n",
    "expr2 = 20*sin(x)+20*sin(10*x)\n",
    "h = plot( expr1, expr2, xlabel=\"$x$\", ylabel = \"$f(x)$\" )"
   ]
  },
  {
   "cell_type": "markdown",
   "metadata": {},
   "source": [
    "Perlu dicatat bahwa untuk melakukan hal ini, kita perlu mengimpor fungsi `plot` dari pustaka `sympy.plotting`. Perlu diingat bahwa fungsi plot ini berbeda dengan fungsi plot yang terdapat dalam pustaka `matplotlib.pyplot`.\n",
    "\n",
    "Sejauh ini, kita telah mempelajari empat fungsi untuk pengelolaan fungsi-fungsi simbolis. Fungsi-fungsi tersebut adalah `symbols()`, `evalf()`, `subs()`, dan `plot()`. "
   ]
  },
  {
   "cell_type": "markdown",
   "metadata": {},
   "source": [
    "## Komputasi Simbolis untuk Polinomial\n",
    "\n",
    "Dalam bagian ini, kita akan menggunakan fungsi `simplify()`, `factor()`, `expand()`, `cancel()`, `apart()`, dan `solve()` untuk memanipulasi fungsi-fungsi polinomial. Fungsi pertama, `simplify()`, bisa digunakan untuk menyederhanakan persamaan polinomial. Sebagai contoh, persamaan polinomial $\\frac{x^2 - 4}{x - 2}$ dapat disederhanakan menjadi $x + 2$ dengan cara berikut ini. \n",
    "\n",
    "$$\n",
    "   \\frac{x^2 - 4}{x - 2} = \\frac{(x - 2)(x + 2)}{x - 2} = x + 2\n",
    "$$\n",
    "\n",
    "Dalam python, penyederhanaan di atas dapat diperoleh dengan perintah `simplify()`. Sebagai contoh, lihat perintah python berikut ini.\n"
   ]
  },
  {
   "cell_type": "code",
   "execution_count": 12,
   "metadata": {},
   "outputs": [
    {
     "data": {
      "image/png": "[encoded data removed]",
      "text/latex": [
       "$$x + 2$$"
      ],
      "text/plain": [
       "x + 2"
      ]
     },
     "execution_count": 12,
     "metadata": {},
     "output_type": "execute_result"
    }
   ],
   "source": [
    "expr = (x**2 - 4)/(x - 2)\n",
    "simplify( expr )"
   ]
  },
  {
   "cell_type": "markdown",
   "metadata": {},
   "source": [
    "Fungsi kedua adalah `factor()` yang bisa digunakan untuk memfaktorisasi polinomial. Sebagai contoh, polinomial $x^2 + x - 12$ memiliki faktor-faktor $(x-3)$ dan $(x + 4)$. \n",
    "\n",
    "$$\n",
    "   x^2 + x - 12 = (x - 3)(x + 4).\n",
    "$$\n",
    "\n",
    "Menggunakan python, faktor-faktor ini bisa diperoleh sebagai berikut."
   ]
  },
  {
   "cell_type": "code",
   "execution_count": 13,
   "metadata": {},
   "outputs": [
    {
     "data": {
      "image/png": "[encoded data removed]",
      "text/latex": [
       "$$\\left(x - 3\\right) \\left(x + 4\\right)$$"
      ],
      "text/plain": [
       "(x - 3)⋅(x + 4)"
      ]
     },
     "execution_count": 13,
     "metadata": {},
     "output_type": "execute_result"
    }
   ],
   "source": [
    "expr = x**2 + x - 12\n",
    "factor( expr)"
   ]
  },
  {
   "cell_type": "markdown",
   "metadata": {},
   "source": [
    "Fungsi ketiga adalah `expand()` yang melakukan hal yang berlawanan dengan fungsi `factor()`. Fungsi `expand()` dapat digunakan untuk menulis persamaan polinomial secara terbuka. Sebagai contoh, persamaan polinomial $(x - 3)(x + 4)$ akan ditulis dalam bentuk $x^2 + x - 12$. \n",
    "\n",
    "$$\n",
    "   (x - 3)(x + 4) = x^2 + x - 12.\n",
    "$$\n",
    "\n",
    "Implementasi dalam python  adalah sebagai berikut:"
   ]
  },
  {
   "cell_type": "code",
   "execution_count": 14,
   "metadata": {},
   "outputs": [
    {
     "data": {
      "image/png": "[encoded data removed]",
      "text/latex": [
       "$$x^{2} + x - 12$$"
      ],
      "text/plain": [
       " 2         \n",
       "x  + x - 12"
      ]
     },
     "execution_count": 14,
     "metadata": {},
     "output_type": "execute_result"
    }
   ],
   "source": [
    "expr = (x - 3)*(x + 4)\n",
    "expand( expr )"
   ]
  },
  {
   "cell_type": "markdown",
   "metadata": {},
   "source": [
    "Fungsi keempat adalah `cancel()`. Fungsi `cancel()` bisa digunakan untuk menyederhanakan persamaan polinomial dalam bentuk rasional ke dalam bentuk standar, $p/q$. Sebagai contoh, persamaan $\\frac{x^2 + 2x + 1}{x^2 + x}$ dapat disederhanakan menjadi $\\frac{(x + 1)}{x}$ dengan cara:\n",
    "\n",
    "$$\n",
    "    \\frac{x^2 + 2x + 1}{x^2 + x} = \\frac{(x + 1)(x + 1)}{x(x + 1)} = \\frac{x + 1}{x}.\n",
    "$$\n",
    "\n",
    "Dalam python, hal ini dapat dicapai dengan"
   ]
  },
  {
   "cell_type": "code",
   "execution_count": 15,
   "metadata": {},
   "outputs": [
    {
     "data": {
      "image/png": "[encoded data removed]",
      "text/latex": [
       "$$\\frac{1}{x} \\left(x + 1\\right)$$"
      ],
      "text/plain": [
       "x + 1\n",
       "─────\n",
       "  x  "
      ]
     },
     "execution_count": 15,
     "metadata": {},
     "output_type": "execute_result"
    }
   ],
   "source": [
    "expr = (x**2 + 2*x + 1)/(x**2 + x)\n",
    "cancel(expr)"
   ]
  },
  {
   "cell_type": "markdown",
   "metadata": {},
   "source": [
    "Fungsi kelimat adalah `apart()`. Fungsi `apart()` bisa digunakan untuk menyederhanakan persamaan rasional polinomial menjadi suku-suku sederhana. Sebagi contoh, polinomial $\\frac{4x^3 + 21x^2 + 10x + 12}{x^4 + 5x^3 + 5x^2 + 4x}$ dapat ditulis sebagai penjumlahan tiga polinomial sederhana: $\\frac{2x-1}{x^2+x+1} - \\frac{1}{x + 4} + \\frac{3}{x}$:\n",
    "\n",
    "$$\n",
    "   \\frac{4x^3 + 21x^2 + 10x + 12}{x^4 + 5x^3 + 5x^2 + 4x} = \\frac{2x-1}{x^2+x+1} - \\frac{1}{x + 4} + \\frac{3}{x}.\n",
    "$$\n",
    "\n",
    "Perintah python berikut ini memberikan ketiga polinomial sederhana tersebut. "
   ]
  },
  {
   "cell_type": "code",
   "execution_count": 16,
   "metadata": {},
   "outputs": [
    {
     "data": {
      "image/png": "[encoded data removed]",
      "text/latex": [
       "$$\\frac{2 x - 1}{x^{2} + x + 1} - \\frac{1}{x + 4} + \\frac{3}{x}$$"
      ],
      "text/plain": [
       " 2⋅x - 1       1     3\n",
       "────────── - ───── + ─\n",
       " 2           x + 4   x\n",
       "x  + x + 1            "
      ]
     },
     "execution_count": 16,
     "metadata": {},
     "output_type": "execute_result"
    }
   ],
   "source": [
    "expr = (4*x**3 + 21*x**2 + 10*x + 12)/(x**4 + 5*x**3 + 5*x**2 + 4*x)\n",
    "apart( expr )"
   ]
  },
  {
   "cell_type": "markdown",
   "metadata": {},
   "source": [
    "Sympy python tidak saja memberikan fungsi-fungsi untuk mengelola polinomial seperti `simplify()`, `factor()`, `expand()`, `cancel()`, dan `apart()`, tetapi juga menyediakan fungsi `solve()` yang dapat digunakan untuk menghitung akar-akar polinomial. Untuk mendemonstrasikan fungsi ini, kita gunakan persamaan polinomial $x^4 - 10x^3 + 35 x^2 - 50x + 24$ yang memiliki akar-akar $x = 1, 2, 3, 4$.\n",
    "\n",
    "$$\n",
    "   x^4 - 10x^3 + 35 x^2 - 50x + 24 = (x - 1)(x - 2)(x - 3)(x - 4) = 0\n",
    "$$\n",
    "\n"
   ]
  },
  {
   "cell_type": "code",
   "execution_count": 17,
   "metadata": {},
   "outputs": [
    {
     "data": {
      "image/png": "[encoded data removed]",
      "text/latex": [
       "$$\\left [ 1, \\quad 2, \\quad 3, \\quad 4\\right ]$$"
      ],
      "text/plain": [
       "[1, 2, 3, 4]"
      ]
     },
     "execution_count": 17,
     "metadata": {},
     "output_type": "execute_result"
    }
   ],
   "source": [
    "expr = x**4 - 10*x**3 + 35*x**2 - 50*x + 24\n",
    "solve( expr )"
   ]
  },
  {
   "cell_type": "markdown",
   "metadata": {},
   "source": [
    "Dalam contoh di atas, kita menggunakan fungsi `solve()` untuk menghitung akar-akar suatu polinomial. Fungsi ini bisa juga digunakan untuk memecahkan satu set persamaan aljabar. Sebagai contoh, kita akan menggunakan fungsi `solve()` untuk memecahkan set persamaan aljabar berikut.\n",
    "\n",
    "\\begin{align}\n",
    "    2 x_1 + x_2 &= 3 \\\\\n",
    "      x_1 + x_2 &= 2\n",
    "\\end{align}\n",
    "\n",
    "dengan jawaban $x_1 = 1$ dan $x_2 = 1$. Dalam python, set persamaan ini dapat dipecahkan dengan cara berikut."
   ]
  },
  {
   "cell_type": "code",
   "execution_count": 18,
   "metadata": {},
   "outputs": [
    {
     "data": {
      "image/png": "[encoded data removed]",
      "text/latex": [
       "$$\\left \\{ x_{1} : 1, \\quad x_{2} : 1\\right \\}$$"
      ],
      "text/plain": [
       "{x₁: 1, x₂: 1}"
      ]
     },
     "execution_count": 18,
     "metadata": {},
     "output_type": "execute_result"
    }
   ],
   "source": [
    "x1, x2 = symbols('x1  x2')\n",
    "expr_1 = 2*x1 + x2 - 3\n",
    "expr_2 =   x1 + x2 - 2\n",
    "solve( (expr_1, expr_2), (x1, x2))"
   ]
  },
  {
   "cell_type": "markdown",
   "metadata": {},
   "source": [
    "## Komputasi Simbolis dalam Kalkulus\n",
    "\n",
    "Dalam bagian ini, kita akan mendiskusikan dan mendemonstrasikan tiga fungsi dalam kategori kalkulus. Fungsi-fungsi tersebut adalah `limit`, `integrate`, dan `diff`. Kita mulai dengan fungsi `limit` di mana kita akan menghitung persamaan berikut dengan python. \n",
    "\n",
    "$$\n",
    "   \\lim_{x \\rightarrow \\infty} \\frac{1}{x} = 0\n",
    "$$"
   ]
  },
  {
   "cell_type": "code",
   "execution_count": 19,
   "metadata": {},
   "outputs": [
    {
     "data": {
      "image/png": "[encoded data removed]",
      "text/latex": [
       "$$0$$"
      ],
      "text/plain": [
       "0"
      ]
     },
     "execution_count": 19,
     "metadata": {},
     "output_type": "execute_result"
    }
   ],
   "source": [
    "expr = 1/x\n",
    "limit( expr, x, oo )"
   ]
  },
  {
   "cell_type": "markdown",
   "metadata": {},
   "source": [
    "Fungsi yang akan kita bicarakan berikutnya adalah `integrate` yang dapat digunakan untuk memecahkan persamaan integrasi berhingga dan tak berhingga. Sebagai contoh, kita akan memecahkan persamaan berikut dengan python.\n",
    "\n",
    "$$  \n",
    "    \\int_0^\\pi \\sin(x) \\mathrm dx = 2\n",
    "$$"
   ]
  },
  {
   "cell_type": "code",
   "execution_count": 20,
   "metadata": {},
   "outputs": [
    {
     "data": {
      "image/png": "[encoded data removed]",
      "text/latex": [
       "$$2$$"
      ],
      "text/plain": [
       "2"
      ]
     },
     "execution_count": 20,
     "metadata": {},
     "output_type": "execute_result"
    }
   ],
   "source": [
    "expr = sin(x)\n",
    "integrate( expr, (x, 0, pi))"
   ]
  },
  {
   "cell_type": "markdown",
   "metadata": {},
   "source": [
    "Sehubungan dengan contoh di atas, untuk kasus integral tak berhingga seperti $\\int \\sin(x) dx = \\cos(x)$, kita dapat menggunakan fungsi `integrate` tanpa memberikan argumen `(x, 0, pi)`. \n",
    "\n",
    "Contoh selanjutnya adalah menghitung turunan suatu fungsi secara simbolis. Turunan dapat dihitung menggunakan fungsi `diff`. Sebagai contoh, kita akan menghitung turunan dari fungsi kosinus sederhana \n",
    "\n",
    "$$\\frac{d\\cos(x)}{dx} = -\\sin(x)$$"
   ]
  },
  {
   "cell_type": "code",
   "execution_count": 21,
   "metadata": {},
   "outputs": [
    {
     "data": {
      "image/png": "[encoded data removed]",
      "text/latex": [
       "$$- \\sin{\\left (x \\right )}$$"
      ],
      "text/plain": [
       "-sin(x)"
      ]
     },
     "execution_count": 21,
     "metadata": {},
     "output_type": "execute_result"
    }
   ],
   "source": [
    "expr = cos(x)\n",
    "diff( expr, x )"
   ]
  },
  {
   "cell_type": "markdown",
   "metadata": {},
   "source": [
    "# Tugas\n",
    "\n",
    "Anda telah belajar menggunakan fungsi `factor()` yang melakukan faktorisasi terhadap polinomial-polinomial. Anda perlu membuat program yang menerima input dalam bentuk polinomial dari pengguna dan mencetak faktor-faktor dari polinomial tersebut. Program anda perlu tetap bekerja bahkan ketika pengguna memberi input yang salah. "
   ]
  },
  {
   "cell_type": "markdown",
   "metadata": {},
   "source": [
    "## Postscript\n",
    "\n",
    "Tulisan pendek ini dibuat untuk membantu mahasiswa dalam mata kuliah COMP6338 Computational Mathematics yang bertujuan untuk memberikan pengantar mengenai penerapan komputer dalam matematika pada mahasiswa-mahasiswa jurusan teknik informatika Universitas Bina Nusantara. Tulisan ini adalah ekspresi penulis sebagai pribadi dan bukan institusi apapun. Masukan dalam bentuk apapun bisa dikirim melalui email ke `fgunawan@binus.edu` (Fergyanto E Gunawan, Dr Eng.)"
   ]
  }
 ],
 "metadata": {
  "anaconda-cloud": {
   "attach-environment": true,
   "environment": "Root",
   "summary": "Tulisan pendek ini mendemonstrasikan penggunaan modul SymPy dalam Python.",
   "url": "https://anaconda.org/fe_gunawan/symbolic-math-with-simpy"
  },
  "environment": {
   "channels": [
    "defaults"
   ],
   "name": "Root",
   "prefix": "C:\\Users\\FEG\\Anaconda3\\envs\\Root"
  },
  "kernelspec": {
   "display_name": "Python 3",
   "language": "python",
   "name": "python3"
  },
  "language_info": {
   "codemirror_mode": {
    "name": "ipython",
    "version": 3
   },
   "file_extension": ".py",
   "mimetype": "text/x-python",
   "name": "python",
   "nbconvert_exporter": "python",
   "pygments_lexer": "ipython3",
   "version": "3.6.4"
  }
 },
 "nbformat": 4,
 "nbformat_minor": 1
}
